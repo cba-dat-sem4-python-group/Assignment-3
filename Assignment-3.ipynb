{
 "cells": [
  {
   "cell_type": "markdown",
   "metadata": {},
   "source": [
    "# Assignment 3: numpy"
   ]
  },
  {
   "cell_type": "markdown",
   "metadata": {},
   "source": [
    "This assignment is about slicing and .\n",
    "\n",
    "## How to hand in\n",
    "The assignment is expected to be published on GitHub, but the actual hand-in is on peergrade and should contain only a link to a MyBinder. Remember her to use the link provided when first registering your notebook with mybinder (not the url taken from your browsers adress field). See the notebook 12-Assignments for more information.\n",
    "\n",
    "## Create jupyter notebook with 4 data illustrations\n",
    "1. First create a file with your python module. This is where you should put your functions to be used in the notebook.\n",
    "2. Second create a function to read the csv file containing Copenhagen city population data and return a numpy array (numpy.ndarray). hint: use np.genfromtxt(filename, delimiter=',', dtype=np.uint, skip_header=1) as in the slides\n",
    "3. Third create a function that can extract the number of all the citizens from native english speaking countries and from non english speaking countries. How many are there of each? (hint remember that with python you can return multiple values from a function).\n",
    "4. Now create another function that can take 2 arguments:\n",
    "    - 1: the dataset in the form of a 2dimensional data array where y=data rows and x=[year, area, age nationality, amount].\n",
    "    - 2: the mask in the form: data[:,3] == 5120 to find swedish or data[:,0] == 1999 to filter on year\n",
    "the return value must be the filtered dataset.\n",
    "5. Create another function that can take 2 arguments:\n",
    "    - a dataset with same characteristics as above and\n",
    "    - a value for the x-axis (either year, area, age or nationality)\n",
    "    - return value should be the accumulated population for all x-values.\n",
    "    - hint: if year is chosen for x then y is all accumulated amounts from all areas, ages and nationalities.\n",
    "6. Create Illustration 1: In your notebook use the above function and create a 2d array of year as x and accumulated amount as y:\n",
    "create a line graph of the population change over time for all of Copenhagen\n",
    "7. Create illustration 2: In your notebook use your module to create a dataset where development of all German citizens can be shown over time\n",
    "8. Create illustration 3: Show a bar plot of all the 18-25 year old in the different areas of copenhagen and in the same plot show (in a different color) all 60-67 year old in the different areas.\n",
    "9. Create illustration 4: show a pie chart of age groups (0-10, 10-20, 20-30 ...) in Østerbro part of Copenhagen. create another similar piechart for Vesterbro."
   ]
  },
  {
   "cell_type": "markdown",
   "metadata": {},
   "source": [
    "### 2 Create a function to read the csv file containing Copenhagen city population data and return a numpy array."
   ]
  },
  {
   "cell_type": "code",
   "execution_count": 1,
   "metadata": {},
   "outputs": [
    {
     "name": "stdout",
     "output_type": "stream",
     "text": [
      "[[2015    1    0 5100  614]\n",
      " [2015    1    0 5104    2]\n",
      " [2015    1    0 5106    1]\n",
      " ...\n",
      " [1992   99   89 5100    1]\n",
      " [1992   99   90 5180    1]\n",
      " [1992   99   93 5100    1]]\n"
     ]
    }
   ],
   "source": [
    "import my_module\n",
    "\n",
    "print(my_module.get_data())"
   ]
  },
  {
   "cell_type": "markdown",
   "metadata": {},
   "source": [
    "### 3 Create a function that can extract the number of all the citizens from native english speaking countries and from non english speaking countries.\n",
    "\n",
    "How many are there of each?"
   ]
  },
  {
   "cell_type": "code",
   "execution_count": 2,
   "metadata": {},
   "outputs": [
    {
     "name": "stdout",
     "output_type": "stream",
     "text": [
      "Native english: [3438 3552 3679 4029 4255 4558 4737 4809 4846 4835 4752 4594 4616 4623\n",
      " 4504 4566 4711 4991 5169 5492 5562 5747 5887 6186]\n",
      "Non-english: [461128 462577 463574 467271 472496 479100 483232 486273 490853 494313\n",
      " 495779 496691 497048 497739 496654 499133 505150 513583 523039 534050\n",
      " 543488 553693 564285 574109]\n"
     ]
    }
   ],
   "source": [
    "import my_module\n",
    "\n",
    "asdfg = my_module.no_english_and_non_english()\n",
    "\n",
    "native_english, non_english = asdfg\n",
    "\n",
    "print('Native english:', native_english)\n",
    "print('Non-english:', non_english)"
   ]
  },
  {
   "cell_type": "markdown",
   "metadata": {},
   "source": [
    "### 4 Now create another function that can take 2 arguments\n",
    "\n",
    "- 1: the dataset in the form of a 2dimensional data array where y=data rows and x=[year, area, age nationality, amount].\n",
    "- 2: the mask in the form: data[:,3] == 5120 to find swedish or data[:,0] == 1999 to filter on year.\n",
    "- the return value must be the filtered dataset."
   ]
  },
  {
   "cell_type": "code",
   "execution_count": 5,
   "metadata": {},
   "outputs": [
    {
     "name": "stdout",
     "output_type": "stream",
     "text": [
      "filter by year\n",
      "[[2015    1    0 5100  614]\n",
      " [2015    1    0 5104    2]\n",
      " [2015    1    0 5106    1]\n",
      " ...\n",
      " [2015   99   82 5100    1]\n",
      " [2015   99   86 5289    1]\n",
      " [2015   99   90 5289    1]] \n",
      "----------------------------\n",
      "filter by area\n",
      "[[2015    1    0 5100  614]\n",
      " [2015    1    0 5104    2]\n",
      " [2015    1    0 5106    1]\n",
      " ...\n",
      " [1992    1  100 5100    1]\n",
      " [1992    1  101 5100    2]\n",
      " [1992    1  103 5100    1]] \n",
      "----------------------------\n",
      "filter by age\n",
      "[[2015    1   25 5100 1107]\n",
      " [2015    1   25 5103    1]\n",
      " [2015    1   25 5104    6]\n",
      " ...\n",
      " [1992   99   25 5244    1]\n",
      " [1992   99   25 5436    1]\n",
      " [1992   99   25 5438    2]] \n",
      "----------------------------\n",
      "filter by nationality\n",
      "[[2015    1    0 5100  614]\n",
      " [2015    1    1 5100  540]\n",
      " [2015    1    2 5100  485]\n",
      " ...\n",
      " [1992   99   87 5100    2]\n",
      " [1992   99   89 5100    1]\n",
      " [1992   99   93 5100    1]]\n"
     ]
    }
   ],
   "source": [
    "import my_module\n",
    "\n",
    "data = my_module.get_data()\n",
    "year_mask = (data[:,0] == 2015)\n",
    "area_mask = (data[:,1] == 1)\n",
    "age_mask = (data[:,2] == 25)\n",
    "nationality_mask = (data[:,3] == 5100)\n",
    "\n",
    "print('filter by year')\n",
    "print(my_module.filter_data(data, year_mask), '\\n----------------------------')\n",
    "print('filter by area')\n",
    "print(my_module.filter_data(data, area_mask), '\\n----------------------------')\n",
    "print('filter by age')\n",
    "print(my_module.filter_data(data, age_mask), '\\n----------------------------')\n",
    "print('filter by nationality')\n",
    "print(my_module.filter_data(data, nationality_mask))"
   ]
  },
  {
   "cell_type": "markdown",
   "metadata": {},
   "source": [
    "### 5 Create another function that can take 2 arguments:\n",
    "- a dataset with same characteristics as above and\n",
    "- a value for the x-axis (either year, area, age or nationality)\n",
    "- return value should be the accumulated population for all x-values."
   ]
  },
  {
   "cell_type": "code",
   "execution_count": 4,
   "metadata": {},
   "outputs": [
    {
     "name": "stdout",
     "output_type": "stream",
     "text": [
      "year\n",
      " [   614    616    617 ... 580293 580294 580295] \n",
      "----------------------------\n",
      "area\n",
      " [    614     616     617 ... 1082099 1082101 1082102] \n",
      "----------------------------\n",
      "age\n",
      " [  1107   1108   1114 ... 331406 331407 331409] \n",
      "----------------------------\n",
      "nationality\n",
      " [     614     1154     1639 ... 10728941 10728942 10728943]\n"
     ]
    }
   ],
   "source": [
    "import my_module\n",
    "\n",
    "data = my_module.get_data()\n",
    "\n",
    "print('year\\n', my_module.accumulated_population_of_xval(data, 0, 2015), '\\n----------------------------')\n",
    "print('area\\n', my_module.accumulated_population_of_xval(data, 1, 1), '\\n----------------------------')\n",
    "print('age\\n', my_module.accumulated_population_of_xval(data, 2, 25), '\\n----------------------------')\n",
    "print('nationality\\n', my_module.accumulated_population_of_xval(data, 3, 5100))"
   ]
  }
 ],
 "metadata": {
  "kernelspec": {
   "display_name": "Python 3",
   "language": "python",
   "name": "python3"
  },
  "language_info": {
   "codemirror_mode": {
    "name": "ipython",
    "version": 3
   },
   "file_extension": ".py",
   "mimetype": "text/x-python",
   "name": "python",
   "nbconvert_exporter": "python",
   "pygments_lexer": "ipython3",
   "version": "3.7.1"
  }
 },
 "nbformat": 4,
 "nbformat_minor": 2
}
